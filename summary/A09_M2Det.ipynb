{
 "cells": [
  {
   "cell_type": "markdown",
   "id": "6c4f4e68-eb80-4587-bd4d-c5475bf6b13f",
   "metadata": {},
   "source": [
    "# M2Det"
   ]
  },
  {
   "cell_type": "markdown",
   "id": "e2bcbaf9-cbc3-440b-bf61-aca2cb1ba891",
   "metadata": {},
   "source": [
    "- Multi-level Multi-Scale 적용"
   ]
  },
  {
   "cell_type": "markdown",
   "id": "f8c23765-116b-43b0-bf74-41f7ee52e3f9",
   "metadata": {},
   "source": [
    "### Feature pyramid 한계점\n",
    "- Backbone으로부터 feature pyramid 구성\n",
    "- Classification task를 위해 설계된 backbone은 object detetion task를 수행하기에 충분하지 않음\n",
    "- Backbone network는 single-level layer로 single-level 정보만 나타냄\n",
    "- 일반적으로 low-level feature는 간단한 외형을 high-level feature는 복잡한 외형을 나타내는데 적합"
   ]
  },
  {
   "cell_type": "markdown",
   "id": "e8793802-1b7a-4088-bffe-07d750c054ce",
   "metadata": {},
   "source": []
  },
  {
   "cell_type": "markdown",
   "id": "b7b1a11f-c091-4c74-b346-56f78c5cab27",
   "metadata": {},
   "source": []
  },
  {
   "cell_type": "markdown",
   "id": "1211bd25-ebb3-4573-bf74-06ad5646c11f",
   "metadata": {},
   "source": []
  },
  {
   "cell_type": "markdown",
   "id": "d35c5af2-17e0-4c54-8783-2da86d7020b0",
   "metadata": {},
   "source": []
  },
  {
   "cell_type": "markdown",
   "id": "0b387713-3161-4a1b-8275-b123c9432241",
   "metadata": {},
   "source": []
  },
  {
   "cell_type": "markdown",
   "id": "c17c36ea-c378-49dd-99a8-ef993a9737af",
   "metadata": {},
   "source": []
  },
  {
   "cell_type": "markdown",
   "id": "b642a6f3-c872-4447-a5f5-6e4f85990995",
   "metadata": {},
   "source": []
  },
  {
   "cell_type": "markdown",
   "id": "d6aaa38b-7df9-4fbd-b2c7-7a3baa60da04",
   "metadata": {},
   "source": []
  },
  {
   "cell_type": "markdown",
   "id": "37110c50-e62d-4d08-9b26-4251bf0ac1fb",
   "metadata": {},
   "source": []
  },
  {
   "cell_type": "markdown",
   "id": "0b3b29e2-e20d-4dd7-a50b-a0c64d570991",
   "metadata": {},
   "source": []
  },
  {
   "cell_type": "markdown",
   "id": "e762200a-c835-4ead-99cc-6b027997f249",
   "metadata": {},
   "source": []
  },
  {
   "cell_type": "markdown",
   "id": "de701338-ea27-4d64-a247-6538626701e9",
   "metadata": {},
   "source": []
  },
  {
   "cell_type": "markdown",
   "id": "72fe0787-b4da-457b-89ee-ab69525bc9a5",
   "metadata": {},
   "source": []
  }
 ],
 "metadata": {
  "kernelspec": {
   "display_name": "Python 3 (ipykernel)",
   "language": "python",
   "name": "python3"
  },
  "language_info": {
   "codemirror_mode": {
    "name": "ipython",
    "version": 3
   },
   "file_extension": ".py",
   "mimetype": "text/x-python",
   "name": "python",
   "nbconvert_exporter": "python",
   "pygments_lexer": "ipython3",
   "version": "3.9.18"
  }
 },
 "nbformat": 4,
 "nbformat_minor": 5
}
