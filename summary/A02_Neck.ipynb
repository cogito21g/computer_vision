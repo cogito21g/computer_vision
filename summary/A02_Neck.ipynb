{
 "cells": [
  {
   "cell_type": "markdown",
   "id": "cd87cd22",
   "metadata": {},
   "source": [
    "# Neck"
   ]
  },
  {
   "cell_type": "markdown",
   "id": "39fd4e0e",
   "metadata": {},
   "source": []
  },
  {
   "cell_type": "markdown",
   "id": "3c92a670",
   "metadata": {},
   "source": []
  },
  {
   "cell_type": "markdown",
   "id": "528e4930",
   "metadata": {},
   "source": []
  },
  {
   "cell_type": "markdown",
   "id": "436cc755",
   "metadata": {},
   "source": []
  },
  {
   "cell_type": "markdown",
   "id": "b9d05127",
   "metadata": {},
   "source": []
  },
  {
   "cell_type": "markdown",
   "id": "a70b1d4f",
   "metadata": {},
   "source": []
  },
  {
   "cell_type": "markdown",
   "id": "987bb905",
   "metadata": {},
   "source": []
  },
  {
   "cell_type": "markdown",
   "id": "e11fa94b",
   "metadata": {},
   "source": []
  },
  {
   "cell_type": "markdown",
   "id": "aed27eff",
   "metadata": {},
   "source": []
  },
  {
   "cell_type": "markdown",
   "id": "25925bc4",
   "metadata": {},
   "source": []
  },
  {
   "cell_type": "markdown",
   "id": "ab34734e",
   "metadata": {},
   "source": []
  },
  {
   "cell_type": "markdown",
   "id": "b0d77ba7",
   "metadata": {},
   "source": []
  },
  {
   "cell_type": "markdown",
   "id": "f7ef1857",
   "metadata": {},
   "source": []
  },
  {
   "cell_type": "markdown",
   "id": "fd59cddb",
   "metadata": {},
   "source": []
  },
  {
   "cell_type": "markdown",
   "id": "fb255f3b",
   "metadata": {},
   "source": []
  }
 ],
 "metadata": {
  "kernelspec": {
   "display_name": "Python 3 (ipykernel)",
   "language": "python",
   "name": "python3"
  },
  "language_info": {
   "codemirror_mode": {
    "name": "ipython",
    "version": 3
   },
   "file_extension": ".py",
   "mimetype": "text/x-python",
   "name": "python",
   "nbconvert_exporter": "python",
   "pygments_lexer": "ipython3",
   "version": "3.9.17"
  }
 },
 "nbformat": 4,
 "nbformat_minor": 5
}
